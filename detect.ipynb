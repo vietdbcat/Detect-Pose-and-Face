{
 "cells": [
  {
   "cell_type": "code",
   "execution_count": 1,
   "id": "41e22aa3",
   "metadata": {},
   "outputs": [],
   "source": [
    "!pip install mediapipe\n",
    "!pip install opencv-python"
   ]
  },
  {
   "cell_type": "markdown",
   "id": "bf92afb4-f6e9-42db-85a4-47158b12394f",
   "metadata": {},
   "source": [
    "# Mediapipe"
   ]
  },
  {
   "cell_type": "code",
   "execution_count": 2,
   "id": "eeaa0e7f-40ec-4f91-9a93-f9c76b373624",
   "metadata": {
    "tags": []
   },
   "outputs": [],
   "source": [
    "import cv2\n",
    "import os\n",
    "import numpy as np"
   ]
  },
  {
   "cell_type": "code",
   "execution_count": 3,
   "id": "ef66241a-60a3-437a-a490-409664956c1a",
   "metadata": {},
   "outputs": [],
   "source": [
    "\n",
    "import mediapipe as mp\n",
    "mp_drawing = mp.solutions.drawing_utils\n",
    "mp_pose = mp.solutions.pose\n",
    "\n",
    "cap = cv2.VideoCapture(0)\n",
    "cv2.namedWindow(\"Mediapipe\", cv2.WINDOW_NORMAL)\n",
    "\n",
    "with mp_pose.Pose(\n",
    "    min_detection_confidence=0.5, \n",
    "    min_tracking_confidence=0.5) as pose:\n",
    "  while cap.isOpened():\n",
    "    success, image = cap.read()\n",
    "    if not success:\n",
    "      print(\"Null video.\")\n",
    "      break\n",
    "\n",
    "    # image = cv2.flip(image,1)\n",
    "    image = cv2.cvtColor(image, cv2.COLOR_BGR2RGB)\n",
    "    \n",
    "    image.flags.writeable = False\n",
    "    results = pose.process(image)\n",
    "\n",
    "    # Draw the pose annotation on the image.\n",
    "    image.flags.writeable = True\n",
    "    image = cv2.cvtColor(image, cv2.COLOR_RGB2BGR)\n",
    "    mp_drawing.draw_landmarks(\n",
    "        image, \n",
    "        results.pose_landmarks, \n",
    "        mp_pose.POSE_CONNECTIONS)\n",
    "    \n",
    "    cv2.imshow('Mediapipe', image)\n",
    "   \n",
    "    if cv2.waitKey(1) & 0xFF == ord(\"e\"):\n",
    "      break\n",
    "cap.release()\n",
    "cv2.destroyAllWindows()"
   ]
  },
  {
   "cell_type": "markdown",
   "id": "78f5acd4-57f8-4392-b782-32a6018604ba",
   "metadata": {},
   "source": [
    "# OpenCV"
   ]
  },
  {
   "cell_type": "code",
   "execution_count": 4,
   "id": "2ec366fa-0d37-489c-ae29-4110067af75c",
   "metadata": {},
   "outputs": [],
   "source": [
    "cap = cv2.VideoCapture(0)\n",
    "cv2.namedWindow(\"OpenCV\", cv2.WINDOW_NORMAL)\n",
    "\n",
    "face_det=cv2.CascadeClassifier(\n",
    "    cv2.data.haarcascades \n",
    "    +'haarcascade_frontalface_default.xml')\n",
    "\n",
    "while(True):\n",
    "    ret, frame = cap.read()\n",
    "    \n",
    "    f_gray = cv2.cvtColor(\n",
    "        frame,\n",
    "        cv2.COLOR_BGR2GRAY)\n",
    "    faces = face_det.detectMultiScale(f_gray, 1.3, 5)\n",
    "    \n",
    "    \n",
    "    for (x, y, w, h) in faces:\n",
    "        cv2.rectangle(\n",
    "            frame, \n",
    "            (x, y), \n",
    "            (x + w, y + h), \n",
    "            (0, 255, 0), 4)\n",
    "    \n",
    "\n",
    "    cv2.imshow('OpenCV',frame)\n",
    "    \n",
    "    if cv2.waitKey(1) & 0xFF == ord(\"e\"):\n",
    "        break\n",
    "\n",
    "\n",
    "cap.release()\n",
    "cv2.destroyAllWindows()"
   ]
  },
  {
   "cell_type": "code",
   "execution_count": null,
   "id": "ddfaa47d",
   "metadata": {},
   "outputs": [],
   "source": []
  }
 ],
 "metadata": {
  "kernelspec": {
   "display_name": "Python 3 (ipykernel)",
   "language": "python",
   "name": "python3"
  },
  "language_info": {
   "codemirror_mode": {
    "name": "ipython",
    "version": 3
   },
   "file_extension": ".py",
   "mimetype": "text/x-python",
   "name": "python",
   "nbconvert_exporter": "python",
   "pygments_lexer": "ipython3",
   "version": "3.10.8"
  }
 },
 "nbformat": 4,
 "nbformat_minor": 5
}
